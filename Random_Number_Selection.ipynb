{
  "nbformat": 4,
  "nbformat_minor": 0,
  "metadata": {
    "colab": {
      "provenance": [],
      "collapsed_sections": [],
      "toc_visible": true,
      "authorship_tag": "ABX9TyO6mz935nlZZcbOAUGJjkrT",
      "include_colab_link": true
    },
    "kernelspec": {
      "name": "python3",
      "display_name": "Python 3"
    },
    "language_info": {
      "name": "python"
    }
  },
  "cells": [
    {
      "cell_type": "markdown",
      "metadata": {
        "id": "view-in-github",
        "colab_type": "text"
      },
      "source": [
        "<a href=\"https://colab.research.google.com/github/asolis3/VIP/blob/main/Random_Number_Selection.ipynb\" target=\"_parent\"><img src=\"https://colab.research.google.com/assets/colab-badge.svg\" alt=\"Open In Colab\"/></a>"
      ]
    },
    {
      "cell_type": "code",
      "source": [
        "import random\n",
        "\n",
        "n = 17\n",
        "images = list(range(1, n + 1))#list of numbers\n",
        "\n",
        "\n",
        "x = round(n * 70/100)\n",
        "training_pr = round(x)\n",
        "\n",
        "\n",
        "y = round(n * 20/100)\n",
        "validating_pr = round(y)\n",
        "\n",
        "\n",
        "z = round(n * 10/100)\n",
        "testing_pr = round(z)\n",
        " \n",
        "\n",
        "\n",
        "print(\"Training: \")\n",
        "training_list = random.sample(images, training_pr) \n",
        "print(training_list)\n",
        "\n",
        "images2 = list(filter(lambda v: v not in training_list, images))\n",
        "\n",
        "print(\"Validation: \")\n",
        "validation_list = random.sample(images2, validating_pr )\n",
        "print(validation_list)\n",
        "\n",
        "images3 = list(filter(lambda v: v not in validation_list, images2))\n",
        "\n",
        "print(\"Testing: \")\n",
        "testing_list = random.sample(images3, testing_pr)\n",
        "print(testing_list)"
      ],
      "metadata": {
        "colab": {
          "base_uri": "https://localhost:8080/"
        },
        "id": "4RDZvW6tEK2X",
        "outputId": "1f2af0b3-ef78-419a-a8f0-951f5ba381b2"
      },
      "execution_count": 32,
      "outputs": [
        {
          "output_type": "stream",
          "name": "stdout",
          "text": [
            "Training: \n",
            "[8, 11, 14, 12, 5, 4, 15, 6, 2, 9, 10, 17]\n",
            "Validation: \n",
            "[1, 13, 7]\n",
            "Testing: \n",
            "[16, 3]\n"
          ]
        }
      ]
    },
    {
      "cell_type": "markdown",
      "source": [
        "x = round(12 * 70/100)\n",
        "training_pr = round(x)\n",
        "\n",
        "\n",
        "y = round(4 * 20/30)\n",
        "validating_pr = round(y)\n",
        "\n",
        "\n",
        "z = round(1 * 10/1)\n",
        "testing_pr = round(z)\n",
        " "
      ],
      "metadata": {
        "id": "hOWGu2Llvzwm"
      }
    }
  ]
}