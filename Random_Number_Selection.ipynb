{
  "nbformat": 4,
  "nbformat_minor": 0,
  "metadata": {
    "colab": {
      "provenance": [],
      "collapsed_sections": [],
      "toc_visible": true,
      "authorship_tag": "ABX9TyNcCZVtPUAMiyCKsp9Bj5HH",
      "include_colab_link": true
    },
    "kernelspec": {
      "name": "python3",
      "display_name": "Python 3"
    },
    "language_info": {
      "name": "python"
    }
  },
  "cells": [
    {
      "cell_type": "markdown",
      "metadata": {
        "id": "view-in-github",
        "colab_type": "text"
      },
      "source": [
        "<a href=\"https://colab.research.google.com/github/asolis3/VIP/blob/main/Random_Number_Selection.ipynb\" target=\"_parent\"><img src=\"https://colab.research.google.com/assets/colab-badge.svg\" alt=\"Open In Colab\"/></a>"
      ]
    },
    {
      "cell_type": "code",
      "execution_count": null,
      "metadata": {
        "colab": {
          "base_uri": "https://localhost:8080/"
        },
        "id": "U8MMBEopDyzy",
        "outputId": "7e490024-4e57-407c-aae2-8ce081e27589"
      },
      "outputs": [
        {
          "output_type": "stream",
          "name": "stdout",
          "text": [
            "Original list is : [1, 2, 3, 4, 5, 6, 7, 8]\n",
            "Random Number is 7\n"
          ]
        }
      ],
      "source": [
        "import random\n",
        "\n",
        "test_list = [1, 2, 3, 4, 5, 6, 7, 8] # list of numbers\n",
        "print(\"Original list is : \" + str(test_list)) # prints original numbers\n",
        "\n",
        "random_num = random.choice(test_list) #using random.choice to get a random number\n",
        "\n",
        "\n",
        "print (\"Random Number is \" + str(random_num)) #prints random number \n"
      ]
    },
    {
      "cell_type": "code",
      "source": [
        "import random\n",
        "\n",
        "images = [1, 2, 3, 4, 5, 6, 7, 8, 9, 10, 11, 12] #list of numbers\n",
        "\n",
        "x = round(12 * 70/100)\n",
        "training_pr = round(x)\n",
        "\n",
        "\n",
        "y = round(12 * 20/100)\n",
        "validating_pr = round(y)\n",
        "\n",
        "\n",
        "z = round(12 * 10/100)\n",
        "testing_pr = round(z)\n",
        " \n",
        "\n",
        "\n",
        "\n",
        "print(\"Training: \")\n",
        "training_list = random.sample(images, training_pr) \n",
        "print(training_list)\n",
        "\n",
        "\n",
        "print(\"Validation: \")\n",
        "validation_list = random.sample(images, validating_pr )\n",
        "print(validation_list)\n",
        "\n",
        "print(\"Testing: \")\n",
        "testing_list = random.sample(images, testing_pr)\n",
        "print(testing_list)"
      ],
      "metadata": {
        "colab": {
          "base_uri": "https://localhost:8080/"
        },
        "id": "a7sbD_c-FgxJ",
        "outputId": "15b8f7e2-e84c-406e-a44d-6a390034b200"
      },
      "execution_count": 2,
      "outputs": [
        {
          "output_type": "stream",
          "name": "stdout",
          "text": [
            "Training: \n",
            "[9, 2, 11, 6, 10, 4, 3, 5]\n",
            "Validation: \n",
            "[8, 3]\n",
            "Testing: \n",
            "[2]\n"
          ]
        }
      ]
    },
    {
      "cell_type": "code",
      "source": [
        "import random\n",
        "\n",
        "n = 12\n",
        "images = list(range(1, n + 1))#list of numbers\n",
        "\n",
        "x = round(12 * 70/100)\n",
        "training_pr = round(x)\n",
        "\n",
        "\n",
        "y = round(4 * 20/30)\n",
        "validating_pr = round(y)\n",
        "\n",
        "\n",
        "z = round(1 * 10/1)\n",
        "testing_pr = round(z)\n",
        " \n",
        "print(validating_pr)\n",
        "\n",
        "print(\"Training: \")\n",
        "training_list = random.sample(images, training_pr) \n",
        "print(training_list)\n",
        "\n",
        "images2 = list(filter(lambda v: v not in training_list, images))\n",
        "\n",
        "print(\"Validation: \")\n",
        "validation_list = random.sample(images2, validating_pr )\n",
        "\n",
        "\n",
        "print(\"Testing: \")\n",
        "testing_list = random.sample(images2, testing_pr)\n",
        "print(testing_list)"
      ],
      "metadata": {
        "id": "4RDZvW6tEK2X",
        "outputId": "10a38aaa-30f6-4cd6-957c-02d94b467ec1",
        "colab": {
          "base_uri": "https://localhost:8080/",
          "height": 437
        }
      },
      "execution_count": 12,
      "outputs": [
        {
          "output_type": "stream",
          "name": "stdout",
          "text": [
            "3\n",
            "Training: \n",
            "[10, 1, 8, 12, 7, 9, 6, 4]\n",
            "Validation: \n",
            "Testing: \n"
          ]
        },
        {
          "output_type": "error",
          "ename": "ValueError",
          "evalue": "ignored",
          "traceback": [
            "\u001b[0;31m---------------------------------------------------------------------------\u001b[0m",
            "\u001b[0;31mValueError\u001b[0m                                Traceback (most recent call last)",
            "\u001b[0;32m<ipython-input-12-25276afd784b>\u001b[0m in \u001b[0;36m<module>\u001b[0;34m\u001b[0m\n\u001b[1;32m     27\u001b[0m \u001b[0;34m\u001b[0m\u001b[0m\n\u001b[1;32m     28\u001b[0m \u001b[0mprint\u001b[0m\u001b[0;34m(\u001b[0m\u001b[0;34m\"Testing: \"\u001b[0m\u001b[0;34m)\u001b[0m\u001b[0;34m\u001b[0m\u001b[0;34m\u001b[0m\u001b[0m\n\u001b[0;32m---> 29\u001b[0;31m \u001b[0mtesting_list\u001b[0m \u001b[0;34m=\u001b[0m \u001b[0mrandom\u001b[0m\u001b[0;34m.\u001b[0m\u001b[0msample\u001b[0m\u001b[0;34m(\u001b[0m\u001b[0mimages2\u001b[0m\u001b[0;34m,\u001b[0m \u001b[0mtesting_pr\u001b[0m\u001b[0;34m)\u001b[0m\u001b[0;34m\u001b[0m\u001b[0;34m\u001b[0m\u001b[0m\n\u001b[0m\u001b[1;32m     30\u001b[0m \u001b[0mprint\u001b[0m\u001b[0;34m(\u001b[0m\u001b[0mtesting_list\u001b[0m\u001b[0;34m)\u001b[0m\u001b[0;34m\u001b[0m\u001b[0;34m\u001b[0m\u001b[0m\n",
            "\u001b[0;32m/usr/lib/python3.7/random.py\u001b[0m in \u001b[0;36msample\u001b[0;34m(self, population, k)\u001b[0m\n\u001b[1;32m    319\u001b[0m         \u001b[0mn\u001b[0m \u001b[0;34m=\u001b[0m \u001b[0mlen\u001b[0m\u001b[0;34m(\u001b[0m\u001b[0mpopulation\u001b[0m\u001b[0;34m)\u001b[0m\u001b[0;34m\u001b[0m\u001b[0;34m\u001b[0m\u001b[0m\n\u001b[1;32m    320\u001b[0m         \u001b[0;32mif\u001b[0m \u001b[0;32mnot\u001b[0m \u001b[0;36m0\u001b[0m \u001b[0;34m<=\u001b[0m \u001b[0mk\u001b[0m \u001b[0;34m<=\u001b[0m \u001b[0mn\u001b[0m\u001b[0;34m:\u001b[0m\u001b[0;34m\u001b[0m\u001b[0;34m\u001b[0m\u001b[0m\n\u001b[0;32m--> 321\u001b[0;31m             \u001b[0;32mraise\u001b[0m \u001b[0mValueError\u001b[0m\u001b[0;34m(\u001b[0m\u001b[0;34m\"Sample larger than population or is negative\"\u001b[0m\u001b[0;34m)\u001b[0m\u001b[0;34m\u001b[0m\u001b[0;34m\u001b[0m\u001b[0m\n\u001b[0m\u001b[1;32m    322\u001b[0m         \u001b[0mresult\u001b[0m \u001b[0;34m=\u001b[0m \u001b[0;34m[\u001b[0m\u001b[0;32mNone\u001b[0m\u001b[0;34m]\u001b[0m \u001b[0;34m*\u001b[0m \u001b[0mk\u001b[0m\u001b[0;34m\u001b[0m\u001b[0;34m\u001b[0m\u001b[0m\n\u001b[1;32m    323\u001b[0m         \u001b[0msetsize\u001b[0m \u001b[0;34m=\u001b[0m \u001b[0;36m21\u001b[0m        \u001b[0;31m# size of a small set minus size of an empty list\u001b[0m\u001b[0;34m\u001b[0m\u001b[0;34m\u001b[0m\u001b[0m\n",
            "\u001b[0;31mValueError\u001b[0m: Sample larger than population or is negative"
          ]
        }
      ]
    }
  ]
}