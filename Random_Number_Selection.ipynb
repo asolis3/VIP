{
  "nbformat": 4,
  "nbformat_minor": 0,
  "metadata": {
    "colab": {
      "provenance": [],
      "collapsed_sections": [],
      "authorship_tag": "ABX9TyN6o5cHO9+YaJNpfZvQbps5",
      "include_colab_link": true
    },
    "kernelspec": {
      "name": "python3",
      "display_name": "Python 3"
    },
    "language_info": {
      "name": "python"
    }
  },
  "cells": [
    {
      "cell_type": "markdown",
      "metadata": {
        "id": "view-in-github",
        "colab_type": "text"
      },
      "source": [
        "<a href=\"https://colab.research.google.com/github/asolis3/VIP/blob/main/Random_Number_Selection.ipynb\" target=\"_parent\"><img src=\"https://colab.research.google.com/assets/colab-badge.svg\" alt=\"Open In Colab\"/></a>"
      ]
    },
    {
      "cell_type": "code",
      "execution_count": null,
      "metadata": {
        "colab": {
          "base_uri": "https://localhost:8080/"
        },
        "id": "U8MMBEopDyzy",
        "outputId": "7e490024-4e57-407c-aae2-8ce081e27589"
      },
      "outputs": [
        {
          "output_type": "stream",
          "name": "stdout",
          "text": [
            "Original list is : [1, 2, 3, 4, 5, 6, 7, 8]\n",
            "Random Number is 7\n"
          ]
        }
      ],
      "source": [
        "import random\n",
        "\n",
        "test_list = [1, 2, 3, 4, 5, 6, 7, 8] # list of numbers\n",
        "print(\"Original list is : \" + str(test_list)) # prints original numbers\n",
        "\n",
        "random_num = random.choice(test_list) #using random.choice to get a random number\n",
        "\n",
        "\n",
        "print (\"Random Number is \" + str(random_num)) #prints random number \n"
      ]
    },
    {
      "cell_type": "code",
      "source": [
        "import random\n",
        "\n",
        "list = [1, 2, 3, 4, 5, 6, 7, 8, 9, 10, 11, 12] #list of numbers\n",
        "\n",
        "n = 4\n",
        "\n",
        "print(random.sample(list, n))\n"
      ],
      "metadata": {
        "colab": {
          "base_uri": "https://localhost:8080/"
        },
        "id": "c-mv612j8MDc",
        "outputId": "32b99d9a-20b0-47f3-8ef3-e21e6e16a9d8"
      },
      "execution_count": null,
      "outputs": [
        {
          "output_type": "stream",
          "name": "stdout",
          "text": [
            "[10, 1, 9, 4]\n"
          ]
        }
      ]
    },
    {
      "cell_type": "code",
      "source": [
        "import random\n",
        "\n",
        "list = [1, 2, 3, 4, 5, 6, 7, 8, 9, 10, 11, 12] #list of numbers\n",
        "\n",
        "x = round(12 * 70/100)\n",
        "training = round(x)\n",
        "\n",
        "n = training \n",
        "\n",
        "print(\"Training: \")\n",
        "print(random.sample(list, n))\n",
        "\n",
        "y = round(12 * 20/100)\n",
        "validating = round(y)\n",
        "\n",
        "n = validating\n",
        "\n",
        "print(\"Validation: \")\n",
        "print(random.sample(list, n))\n",
        "\n",
        "z = round(12 * 10/100)\n",
        "testing = round(z)\n",
        "\n",
        "n = testing \n",
        "\n",
        "print(\"Testing: \")\n",
        "print(random.sample(list, n))\n",
        "\n"
      ],
      "metadata": {
        "colab": {
          "base_uri": "https://localhost:8080/"
        },
        "id": "kcsHlxKgCYVn",
        "outputId": "b96ada57-4753-44b1-bcd9-dcabca2280cb"
      },
      "execution_count": null,
      "outputs": [
        {
          "output_type": "stream",
          "name": "stdout",
          "text": [
            "Training: \n",
            "[1, 8, 5, 4, 11, 2, 10, 9]\n",
            "Validation: \n",
            "[3, 5]\n",
            "Testing: \n",
            "[9]\n"
          ]
        }
      ]
    },
    {
      "cell_type": "code",
      "source": [
        "import random\n",
        "\n",
        "list = [1, 2, 3, 4, 5, 6, 7, 8, 9, 10, 11, 12] #list of numbers\n",
        "\n",
        "x = round(12 * 70/100)\n",
        "training = round(x)\n",
        "\n",
        "n = training \n",
        "\n",
        "\n",
        "\n",
        "y = round(12 * 20/100)\n",
        "validating = round(y)\n",
        "\n",
        "n = validating\n",
        "\n",
        "\n",
        "\n",
        "\n",
        "z = round(12 * 10/100)\n",
        "testing = round(z)\n",
        "\n",
        "n = testing \n",
        "\n",
        "\n",
        "\n",
        "\n",
        "print(\"Training: \")\n",
        "print(random.sample(list, training))\n",
        "\n",
        "print(\"Validation: \")\n",
        "print(random.sample(list, validating))\n",
        "\n",
        "print(\"Testing: \")\n",
        "print(random.sample(list, testing))"
      ],
      "metadata": {
        "colab": {
          "base_uri": "https://localhost:8080/"
        },
        "id": "a7sbD_c-FgxJ",
        "outputId": "1405a2eb-e9e7-416c-e74e-33bcb8d1add9"
      },
      "execution_count": 13,
      "outputs": [
        {
          "output_type": "stream",
          "name": "stdout",
          "text": [
            "Training: \n",
            "[2, 4, 12, 3, 7, 1, 6, 9]\n",
            "Validation: \n",
            "[1, 2]\n",
            "Testing: \n",
            "[4]\n"
          ]
        }
      ]
    },
    {
      "cell_type": "code",
      "source": [
        "from typing_extensions import LiteralString\n",
        "import random\n",
        "\n",
        "list = [1, 2, 3, 4, 5, 6, 7, 8, 9, 10, 11, 12] #list of numbers\n",
        "\n",
        "\n",
        "x = round(12 * 70/100)\n",
        "training = round(x)\n",
        "\n",
        "n = training \n",
        "\n",
        "y = round(12 * 20/100)\n",
        "validating = round(y)\n",
        "\n",
        "n = validating\n",
        "\n",
        "\n",
        "print(random.sample( \n",
        "training + validating))\n",
        "\n",
        "\n",
        "\n",
        "\n"
      ],
      "metadata": {
        "colab": {
          "base_uri": "https://localhost:8080/",
          "height": 240
        },
        "id": "_lSCzwAKFu8d",
        "outputId": "9bd4e0f4-b8f1-438f-8c50-39ee00e6b834"
      },
      "execution_count": 15,
      "outputs": [
        {
          "output_type": "error",
          "ename": "TypeError",
          "evalue": "ignored",
          "traceback": [
            "\u001b[0;31m---------------------------------------------------------------------------\u001b[0m",
            "\u001b[0;31mTypeError\u001b[0m                                 Traceback (most recent call last)",
            "\u001b[0;32m<ipython-input-15-15a0bb2b7787>\u001b[0m in \u001b[0;36m<module>\u001b[0;34m\u001b[0m\n\u001b[1;32m     17\u001b[0m \u001b[0;34m\u001b[0m\u001b[0m\n\u001b[1;32m     18\u001b[0m print(random.sample( \n\u001b[0;32m---> 19\u001b[0;31m training + validating))\n\u001b[0m\u001b[1;32m     20\u001b[0m \u001b[0;34m\u001b[0m\u001b[0m\n\u001b[1;32m     21\u001b[0m \u001b[0;34m\u001b[0m\u001b[0m\n",
            "\u001b[0;31mTypeError\u001b[0m: sample() missing 1 required positional argument: 'k'"
          ]
        }
      ]
    },
    {
      "cell_type": "code",
      "source": [
        "import random\n",
        "\n",
        "letters = ['a', 'b', 'c', 'd', 'e', 'f']\n",
        "random_index = random.randint(0,len(letters)-1)\n",
        "\n",
        "print(letters[random_index])"
      ],
      "metadata": {
        "colab": {
          "base_uri": "https://localhost:8080/"
        },
        "id": "-8ZINBAZ6QQc",
        "outputId": "e0cfb7bd-6022-4b86-ad29-efaf416b0616"
      },
      "execution_count": 14,
      "outputs": [
        {
          "output_type": "stream",
          "name": "stdout",
          "text": [
            "d\n"
          ]
        }
      ]
    },
    {
      "cell_type": "code",
      "source": [
        "from typing_extensions import LiteralString\n",
        "import random\n",
        "\n",
        "list = [1, 2, 3, 4, 5, 6, 7, 8, 9, 10, 11, 12] #list of numbers\n",
        "\n",
        "x = round(12 * 70/100)\n",
        "training = round(x)\n",
        "\n",
        "n = training \n",
        "random_index = random.randint(0,len(training)-1)\n",
        "y = round(12 * 20/100)\n",
        "validating = round(y)\n",
        "\n",
        "n = validating\n",
        "\n",
        "print(training[random_index])"
      ],
      "metadata": {
        "colab": {
          "base_uri": "https://localhost:8080/",
          "height": 240
        },
        "id": "qkDNB-0r6jSs",
        "outputId": "97e819d7-d7c2-402f-f62e-4403ce5032bf"
      },
      "execution_count": 27,
      "outputs": [
        {
          "output_type": "error",
          "ename": "TypeError",
          "evalue": "ignored",
          "traceback": [
            "\u001b[0;31m---------------------------------------------------------------------------\u001b[0m",
            "\u001b[0;31mTypeError\u001b[0m                                 Traceback (most recent call last)",
            "\u001b[0;32m<ipython-input-27-d6eba0ad37ca>\u001b[0m in \u001b[0;36m<module>\u001b[0;34m\u001b[0m\n\u001b[1;32m      8\u001b[0m \u001b[0;34m\u001b[0m\u001b[0m\n\u001b[1;32m      9\u001b[0m \u001b[0mn\u001b[0m \u001b[0;34m=\u001b[0m \u001b[0mtraining\u001b[0m\u001b[0;34m\u001b[0m\u001b[0;34m\u001b[0m\u001b[0m\n\u001b[0;32m---> 10\u001b[0;31m \u001b[0mrandom_index\u001b[0m \u001b[0;34m=\u001b[0m \u001b[0mrandom\u001b[0m\u001b[0;34m.\u001b[0m\u001b[0mrandint\u001b[0m\u001b[0;34m(\u001b[0m\u001b[0;36m0\u001b[0m\u001b[0;34m,\u001b[0m\u001b[0mlen\u001b[0m\u001b[0;34m(\u001b[0m\u001b[0mtraining\u001b[0m\u001b[0;34m)\u001b[0m\u001b[0;34m-\u001b[0m\u001b[0;36m1\u001b[0m\u001b[0;34m)\u001b[0m\u001b[0;34m\u001b[0m\u001b[0;34m\u001b[0m\u001b[0m\n\u001b[0m\u001b[1;32m     11\u001b[0m \u001b[0my\u001b[0m \u001b[0;34m=\u001b[0m \u001b[0mround\u001b[0m\u001b[0;34m(\u001b[0m\u001b[0;36m12\u001b[0m \u001b[0;34m*\u001b[0m \u001b[0;36m20\u001b[0m\u001b[0;34m/\u001b[0m\u001b[0;36m100\u001b[0m\u001b[0;34m)\u001b[0m\u001b[0;34m\u001b[0m\u001b[0;34m\u001b[0m\u001b[0m\n\u001b[1;32m     12\u001b[0m \u001b[0mvalidating\u001b[0m \u001b[0;34m=\u001b[0m \u001b[0mround\u001b[0m\u001b[0;34m(\u001b[0m\u001b[0my\u001b[0m\u001b[0;34m)\u001b[0m\u001b[0;34m\u001b[0m\u001b[0;34m\u001b[0m\u001b[0m\n",
            "\u001b[0;31mTypeError\u001b[0m: object of type 'int' has no len()"
          ]
        }
      ]
    },
    {
      "cell_type": "code",
      "source": [
        "import random\n",
        "\n",
        "list = [1, 2, 3, 4, 5, 6, 7, 8, 9, 10, 11, 12] #list of numbers\n",
        "\n",
        "x = round(12 * 70/100)\n",
        "training = round(x)\n",
        "\n",
        "n = training \n",
        "\n",
        "y = round(12 * 20/100)\n",
        "validating = round(y)\n",
        "\n",
        "n = validating\n",
        "\n",
        "\n"
      ],
      "metadata": {
        "colab": {
          "base_uri": "https://localhost:8080/",
          "height": 133
        },
        "id": "oeJpjGnVL3z9",
        "outputId": "46edd620-7b6e-4e9c-f6a8-8a4af58f076d"
      },
      "execution_count": 39,
      "outputs": [
        {
          "output_type": "error",
          "ename": "SyntaxError",
          "evalue": "ignored",
          "traceback": [
            "\u001b[0;36m  File \u001b[0;32m\"<ipython-input-39-25ac0de02015>\"\u001b[0;36m, line \u001b[0;32m16\u001b[0m\n\u001b[0;31m    print(\"Training: \" random_index(training))\u001b[0m\n\u001b[0m                                  ^\u001b[0m\n\u001b[0;31mSyntaxError\u001b[0m\u001b[0;31m:\u001b[0m invalid syntax\n"
          ]
        }
      ]
    },
    {
      "cell_type": "code",
      "source": [
        "\n",
        "x = round(12 * 70/100)\n",
        "training = round(x)\n",
        "print(training)\n"
      ],
      "metadata": {
        "colab": {
          "base_uri": "https://localhost:8080/"
        },
        "id": "4DWFRP2L_sfa",
        "outputId": "f2200594-de54-4f24-a5e7-4c2b107ebfa8"
      },
      "execution_count": null,
      "outputs": [
        {
          "output_type": "stream",
          "name": "stdout",
          "text": [
            "8\n"
          ]
        }
      ]
    },
    {
      "cell_type": "code",
      "source": [
        "x = round(12 * 20/100)\n",
        "validating = round(x)\n",
        "print(validating)"
      ],
      "metadata": {
        "colab": {
          "base_uri": "https://localhost:8080/"
        },
        "id": "rDgaUWTVA6yn",
        "outputId": "15eaac84-6101-4f26-e0c1-7d9ec0b5435c"
      },
      "execution_count": null,
      "outputs": [
        {
          "output_type": "stream",
          "name": "stdout",
          "text": [
            "2\n"
          ]
        }
      ]
    },
    {
      "cell_type": "code",
      "source": [
        "\n",
        "x = round(12 * 10/100)\n",
        "testing = round(x)\n",
        "print(testing)"
      ],
      "metadata": {
        "colab": {
          "base_uri": "https://localhost:8080/"
        },
        "id": "-1s3eGPJBJV7",
        "outputId": "a92754d8-a141-4fca-c883-922b025b85e2"
      },
      "execution_count": null,
      "outputs": [
        {
          "output_type": "stream",
          "name": "stdout",
          "text": [
            "1\n"
          ]
        }
      ]
    }
  ]
}